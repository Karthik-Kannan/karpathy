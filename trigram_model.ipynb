{
 "cells": [
  {
   "cell_type": "code",
   "execution_count": 2,
   "id": "2573b538",
   "metadata": {},
   "outputs": [],
   "source": [
    "with open('names.txt') as f:\n",
    "    words = f.read().splitlines()"
   ]
  },
  {
   "cell_type": "code",
   "execution_count": 3,
   "id": "df9ba9f8",
   "metadata": {},
   "outputs": [
    {
     "data": {
      "text/plain": [
       "'emma'"
      ]
     },
     "execution_count": 3,
     "metadata": {},
     "output_type": "execute_result"
    }
   ],
   "source": [
    "words[0]"
   ]
  },
  {
   "cell_type": "code",
   "execution_count": 4,
   "id": "aea66857",
   "metadata": {},
   "outputs": [
    {
     "data": {
      "text/plain": [
       "32033"
      ]
     },
     "execution_count": 4,
     "metadata": {},
     "output_type": "execute_result"
    }
   ],
   "source": [
    "len(words)"
   ]
  },
  {
   "cell_type": "code",
   "execution_count": 5,
   "id": "93f88e77",
   "metadata": {},
   "outputs": [],
   "source": [
    "import torch\n",
    "import string\n",
    "import itertools"
   ]
  },
  {
   "cell_type": "code",
   "execution_count": 6,
   "id": "23ee6021",
   "metadata": {},
   "outputs": [],
   "source": [
    "# Get all the alphabets\n",
    "alphas =  \".\" + string.ascii_lowercase\n"
   ]
  },
  {
   "cell_type": "code",
   "execution_count": 6,
   "id": "2ce24d40",
   "metadata": {},
   "outputs": [],
   "source": [
    "# Indexing for X\n",
    "itos = {i: c1+c2 for i, (c1,c2) in enumerate(sorted(itertools.product(alphas, alphas)))}\n",
    "stoi = {v:k for k,v in itos.items()}"
   ]
  },
  {
   "cell_type": "code",
   "execution_count": 7,
   "id": "17365dc3",
   "metadata": {},
   "outputs": [],
   "source": [
    "# Indexing for y\n",
    "ystoi = {a:i for i, a in enumerate(alphas)}"
   ]
  },
  {
   "cell_type": "code",
   "execution_count": 8,
   "id": "2d563ccc",
   "metadata": {},
   "outputs": [],
   "source": [
    "# Create the training set\n",
    "xs = []\n",
    "ys = []\n",
    "for word in words:\n",
    "    word = \".\" + word + \".\"\n",
    "    for c1,c2, c3 in zip(word, word[1:], word[2:]):\n",
    "        xs.append(stoi[c1+c2])\n",
    "        ys.append(ystoi[c3])"
   ]
  },
  {
   "cell_type": "code",
   "execution_count": 46,
   "id": "d323f3a1",
   "metadata": {},
   "outputs": [],
   "source": [
    "# Initial the weights\n",
    "# TODO: Use a generator\n",
    "w = torch.randn(27*27, 27, requires_grad=True)"
   ]
  },
  {
   "cell_type": "code",
   "execution_count": 10,
   "id": "d2e8335d",
   "metadata": {},
   "outputs": [],
   "source": [
    "xs = torch.tensor(xs)\n",
    "ys = torch.tensor(ys)"
   ]
  },
  {
   "cell_type": "code",
   "execution_count": 11,
   "id": "6044f431",
   "metadata": {},
   "outputs": [
    {
     "data": {
      "text/plain": [
       "torch.int64"
      ]
     },
     "execution_count": 11,
     "metadata": {},
     "output_type": "execute_result"
    }
   ],
   "source": [
    "ys.dtype"
   ]
  },
  {
   "cell_type": "code",
   "execution_count": 12,
   "id": "1b14edbf",
   "metadata": {},
   "outputs": [],
   "source": [
    "from torch.nn import functional as F"
   ]
  },
  {
   "cell_type": "code",
   "execution_count": 71,
   "id": "15b29228",
   "metadata": {},
   "outputs": [],
   "source": [
    "import tqdm"
   ]
  },
  {
   "cell_type": "code",
   "execution_count": null,
   "id": "3829d024",
   "metadata": {},
   "outputs": [],
   "source": [
    "class Linear:\n",
    "    def __init__(self,fan_in, fan_out, bias=True):\n",
    "        weight = torch.randn((fan_in, fan_out), generator=g)\n",
    "        self.bias = torch.zeros(fan_out) if bias else None\n",
    "    \n",
    "    def __call__(self, x):\n",
    "        self.out =   self.weight @ x\n",
    "        if self.bias:\n",
    "            self.out += self.bias\n",
    "        return self.out\n",
    "    \n",
    "    def parameters(self):\n",
    "        return self.weight + ([] if self.bias is None else [self.bias])\n",
    "    \n",
    "  "
   ]
  },
  {
   "cell_type": "code",
   "execution_count": 7,
   "id": "6b3cda32",
   "metadata": {},
   "outputs": [],
   "source": [
    "from dataclasses import dataclass"
   ]
  },
  {
   "cell_type": "code",
   "execution_count": null,
   "id": "aa801151",
   "metadata": {},
   "outputs": [],
   "source": [
    "@dataclass\n",
    "class HyperParams:\n",
    "    emb_size: int =  10\n",
    "    batch_size = "
   ]
  },
  {
   "cell_type": "code",
   "execution_count": 86,
   "id": "c65a1fe8",
   "metadata": {},
   "outputs": [
    {
     "name": "stderr",
     "output_type": "stream",
     "text": [
      "100%|█████████████████████████████████████████| 200/200 [02:08<00:00,  1.55it/s]\n"
     ]
    }
   ],
   "source": [
    "losses = []\n",
    "for epoch in tqdm.tqdm(range(200)):\n",
    "    # Forward Pass\n",
    "    xenc = F.one_hot(xs, num_classes=27*27).float()\n",
    "    yenc = F.one_hot(ys, num_classes=27).float()\n",
    "    output = (xenc @ w).exp()\n",
    "    probs = output/output.sum(1, keepdim=True)\n",
    "    loss = - probs[torch.arange(ys.shape[0]), ys].log().mean()\n",
    "\n",
    "    # Backward Pass\n",
    "    w.grad = None\n",
    "    loss.backward()\n",
    "\n",
    "    losses.append((epoch+1 , loss.item()))\n",
    "    learning_rate = 100\n",
    "\n",
    "    w.data -= w.grad * learning_rate"
   ]
  },
  {
   "cell_type": "code",
   "execution_count": 76,
   "id": "cb117c19",
   "metadata": {},
   "outputs": [],
   "source": [
    "import seaborn as sns"
   ]
  },
  {
   "cell_type": "code",
   "execution_count": 87,
   "id": "b931a929",
   "metadata": {},
   "outputs": [
    {
     "data": {
      "text/plain": [
       "<AxesSubplot: >"
      ]
     },
     "execution_count": 87,
     "metadata": {},
     "output_type": "execute_result"
    },
    {
     "data": {
      "image/png": "[encoded data removed]",
      "text/plain": [
       "<Figure size 640x480 with 1 Axes>"
      ]
     },
     "metadata": {},
     "output_type": "display_data"
    }
   ],
   "source": [
    "sns.lineplot([i[1] for i in losses])"
   ]
  },
  {
   "cell_type": "code",
   "execution_count": null,
   "id": "3bfbef9a",
   "metadata": {},
   "outputs": [],
   "source": []
  }
 ],
 "metadata": {
  "kernelspec": {
   "display_name": "Python [conda env:fastbook] *",
   "language": "python",
   "name": "conda-env-fastbook-py"
  },
  "language_info": {
   "codemirror_mode": {
    "name": "ipython",
    "version": 3
   },
   "file_extension": ".py",
   "mimetype": "text/x-python",
   "name": "python",
   "nbconvert_exporter": "python",
   "pygments_lexer": "ipython3",
   "version": "3.10.8"
  }
 },
 "nbformat": 4,
 "nbformat_minor": 5
}
